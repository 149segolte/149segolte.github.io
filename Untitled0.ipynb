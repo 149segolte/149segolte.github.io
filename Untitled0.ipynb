{
  "nbformat": 4,
  "nbformat_minor": 0,
  "metadata": {
    "colab": {
      "provenance": [],
      "authorship_tag": "ABX9TyPDbffLDRZAIJhF1JXjGtQt",
      "include_colab_link": true
    },
    "kernelspec": {
      "name": "python3",
      "display_name": "Python 3"
    },
    "language_info": {
      "name": "python"
    }
  },
  "cells": [
    {
      "cell_type": "markdown",
      "metadata": {
        "id": "view-in-github",
        "colab_type": "text"
      },
      "source": [
        "<a href=\"https://colab.research.google.com/github/149segolte/149segolte.github.io/blob/master/Untitled0.ipynb\" target=\"_parent\"><img src=\"https://colab.research.google.com/assets/colab-badge.svg\" alt=\"Open In Colab\"/></a>"
      ]
    },
    {
      "cell_type": "markdown",
      "source": [
        "## Lab 2"
      ],
      "metadata": {
        "id": "XaoDLRjd8geq"
      }
    },
    {
      "cell_type": "markdown",
      "source": [
        "#### Demo 2"
      ],
      "metadata": {
        "id": "03F74KmG9GiF"
      }
    },
    {
      "cell_type": "code",
      "execution_count": 1,
      "metadata": {
        "colab": {
          "base_uri": "https://localhost:8080/",
          "height": 0
        },
        "id": "UFIrqezS6th0",
        "outputId": "6d400c1f-9c24-4d9b-ae14-238604c223e0"
      },
      "outputs": [
        {
          "output_type": "stream",
          "name": "stdout",
          "text": [
            "\tLab 2 : Demo 2\n",
            "hello\n",
            "thankyou\n"
          ]
        }
      ],
      "source": [
        "print(\"\\tLab 2 : Demo 2\")\n",
        "a = 5\n",
        "if a > 0:\n",
        "    print(\"hello\")\n",
        "print('thankyou')"
      ]
    },
    {
      "cell_type": "markdown",
      "source": [
        "#### Demo 3"
      ],
      "metadata": {
        "id": "fiXVYOQt9QTi"
      }
    },
    {
      "cell_type": "code",
      "source": [
        "print(\"\\tLab 2 : Demo 3\")\n",
        "a = 20\n",
        "b = 30\n",
        "if a > b:\n",
        "    print(a, \" is greater than \", b)\n",
        "else:\n",
        "    print(b, \" is greater than \", a)"
      ],
      "metadata": {
        "colab": {
          "base_uri": "https://localhost:8080/",
          "height": 0
        },
        "id": "anclbCZr9Sii",
        "outputId": "9337345f-bb86-4317-eeb5-507bcd382b1d"
      },
      "execution_count": 2,
      "outputs": [
        {
          "output_type": "stream",
          "name": "stdout",
          "text": [
            "\tLab 2 : Demo 3\n",
            "30  is greater than  20\n"
          ]
        }
      ]
    },
    {
      "cell_type": "code",
      "source": [
        "print(\"\\tLab 2 : Demo 4\")\n",
        "b = 3\n",
        "a = -5\n",
        "if a > 0 and a < b:\n",
        "    print(\"hello\")\n",
        "    print(a)"
      ],
      "metadata": {
        "colab": {
          "base_uri": "https://localhost:8080/",
          "height": 0
        },
        "id": "uHkGlHxo-I9b",
        "outputId": "40200e4b-d6e9-42e2-c0eb-1e8215280a5a"
      },
      "execution_count": 3,
      "outputs": [
        {
          "output_type": "stream",
          "name": "stdout",
          "text": [
            "\tLab 2 : Demo 4\n"
          ]
        }
      ]
    },
    {
      "cell_type": "code",
      "source": [
        "print(\"\\tLab 2 : Demo 5\")\n",
        "b = 3\n",
        "a = -5\n",
        "if a > 0 and a < b:\n",
        "    print(\"hello\")\n",
        "elif a < 0 or a == b:\n",
        "    print(\"hi\")"
      ],
      "metadata": {
        "colab": {
          "base_uri": "https://localhost:8080/",
          "height": 0
        },
        "id": "gljylmFq-KrB",
        "outputId": "bf6c6899-f1f0-464d-832b-75a9f70a291e"
      },
      "execution_count": 4,
      "outputs": [
        {
          "output_type": "stream",
          "name": "stdout",
          "text": [
            "\tLab 2 : Demo 5\n",
            "hi\n"
          ]
        }
      ]
    },
    {
      "cell_type": "code",
      "source": [
        "print(\"\\tLab 2 : Demo 6\")\n",
        "b = 3\n",
        "while b < 5:\n",
        "    print(\"b is smaller\")\n",
        "    b = b+1"
      ],
      "metadata": {
        "colab": {
          "base_uri": "https://localhost:8080/",
          "height": 0
        },
        "id": "2XJoQNns-MFx",
        "outputId": "208d55b7-68ed-4e9d-ebd4-648dcb740b08"
      },
      "execution_count": 5,
      "outputs": [
        {
          "output_type": "stream",
          "name": "stdout",
          "text": [
            "\tLab 2 : Demo 6\n",
            "b is smaller\n",
            "b is smaller\n"
          ]
        }
      ]
    },
    {
      "cell_type": "code",
      "source": [
        "print(\"\\tLab 2 : Q10\")\n",
        "x = int(input(\"Enter the number: \"))\n",
        "if x % 2 == 0:\n",
        "    print(\"The number is even\")\n",
        "else:\n",
        "    print(\"The number is odd\")"
      ],
      "metadata": {
        "colab": {
          "base_uri": "https://localhost:8080/",
          "height": 0
        },
        "id": "zqSL-sMs-NVZ",
        "outputId": "1dc812f1-a70b-402f-9ed0-117602ff4182"
      },
      "execution_count": 6,
      "outputs": [
        {
          "output_type": "stream",
          "name": "stdout",
          "text": [
            "\tLab 2 : Q10\n",
            "Enter the number: 26\n",
            "The number is even\n"
          ]
        }
      ]
    },
    {
      "cell_type": "code",
      "source": [
        "print(\"\\tLab 2 : Q11\")\n",
        "sub1 = int(input(\"Enter marks of first subject: \"))\n",
        "sub2 = int(input(\"Enter marks of second subject: \"))\n",
        "sub3 = int(input(\"Enter marks of third subject: \"))\n",
        "sub4 = int(input(\"Enter marks of fourth subject: \"))\n",
        "sub5 = int(input(\"Enter marks of fifth subject: \"))\n",
        "print(\"The aggregate marks are:\", sub1+sub2+sub3+sub4+sub5, \"out of 500\")\n",
        "print(\"The percentage obtained is:\", (sub1+sub2+sub3+sub4+sub5)/5, \"%\")"
      ],
      "metadata": {
        "colab": {
          "base_uri": "https://localhost:8080/",
          "height": 0
        },
        "id": "TGNfLQD2-O3v",
        "outputId": "5aa9b616-a691-46a3-a7d9-cb8ca90e2b01"
      },
      "execution_count": 7,
      "outputs": [
        {
          "output_type": "stream",
          "name": "stdout",
          "text": [
            "\tLab 2 : Q11\n",
            "Enter marks of first subject: 34\n",
            "Enter marks of second subject: 78\n",
            "Enter marks of third subject: 65\n",
            "Enter marks of fourth subject: 23\n",
            "Enter marks of fifth subject: 98\n",
            "The aggregate marks are: 298 out of 500\n",
            "The percentage obtained is: 59.6 %\n"
          ]
        }
      ]
    },
    {
      "cell_type": "code",
      "source": [
        "PI = 3.1415\n",
        "print(\"\\tLab 2 : Q12\")\n",
        "length = int(input(\"Enter length of the rectangle: \"))\n",
        "height = int(input(\"Enter height of the rectangle: \"))\n",
        "radius = int(input(\"Enter radius of the circle: \"))\n",
        "print(\"Rectangle:\")\n",
        "print(\"Area of the rectangle is:\", length*height)\n",
        "print(\"Perimeter of the rectangle is:\", 2*(length+height))\n",
        "print(\"Circle:\")\n",
        "print(\"Area of the circle is:\", PI*radius*radius)\n",
        "print(\"Circumference of the circle is:\", 2*PI*radius)"
      ],
      "metadata": {
        "colab": {
          "base_uri": "https://localhost:8080/",
          "height": 0
        },
        "id": "_4Ms2yO6-QzX",
        "outputId": "16582d18-7be9-4e19-d4a7-d742c00e2271"
      },
      "execution_count": 8,
      "outputs": [
        {
          "output_type": "stream",
          "name": "stdout",
          "text": [
            "\tLab 2 : Q12\n",
            "Enter length of the rectangle: 20\n",
            "Enter height of the rectangle: 18\n",
            "Enter radius of the circle: 4\n",
            "Rectangle:\n",
            "Area of the rectangle is: 360\n",
            "Perimeter of the rectangle is: 76\n",
            "Circle:\n",
            "Area of the circle is: 50.264\n",
            "Circumference of the circle is: 25.132\n"
          ]
        }
      ]
    },
    {
      "cell_type": "code",
      "source": [
        "print(\"\\tLab 2 : Q13\")\n",
        "amount = int(input(\"Enter total amount withdrawn: \"))\n",
        "hundred = amount // 100\n",
        "fifty = (amount % 100) // 50\n",
        "tens = ((amount % 100) % 50) // 10\n",
        "print(\"Total no. of notes required are:\", hundred+fifty+tens)"
      ],
      "metadata": {
        "colab": {
          "base_uri": "https://localhost:8080/",
          "height": 0
        },
        "id": "IB68nfO2-Sfo",
        "outputId": "c8982029-5a45-4779-e0d1-7f27b1cc64cc"
      },
      "execution_count": 9,
      "outputs": [
        {
          "output_type": "stream",
          "name": "stdout",
          "text": [
            "\tLab 2 : Q13\n",
            "Enter total amount withdrawn: 300\n",
            "Total no. of notes required are: 3\n"
          ]
        }
      ]
    },
    {
      "cell_type": "code",
      "source": [
        "print(\"\\tLab 2 : Q14\")\n",
        "sellprice = int(input(\"Enter total selling price: \"))\n",
        "profit = int(input(\"Enter total profit: \"))\n",
        "costprice = (sellprice - profit) / 15\n",
        "print(\"The cost of one item is:\", costprice)"
      ],
      "metadata": {
        "colab": {
          "base_uri": "https://localhost:8080/",
          "height": 0
        },
        "id": "uzLAgyOj-UT0",
        "outputId": "9abaa9f4-ebc7-42e0-93c3-431fc2306ce8"
      },
      "execution_count": 10,
      "outputs": [
        {
          "output_type": "stream",
          "name": "stdout",
          "text": [
            "\tLab 2 : Q14\n",
            "Enter total selling price: 2300\n",
            "Enter total profit: 46\n",
            "The cost of one item is: 150.26666666666668\n"
          ]
        }
      ]
    },
    {
      "cell_type": "code",
      "source": [
        "print(\"\\tLab 2 : Q15\")\n",
        "num = int(input(\"Enter a five digit number: \"))\n",
        "ans = 0\n",
        "counter = 0\n",
        "while (num > 0):\n",
        "    x = num % 10\n",
        "    num = num // 10\n",
        "    if x == 9:\n",
        "        x = 0\n",
        "    else:\n",
        "        x += 1\n",
        "    ans = ans+(x*(10**counter))\n",
        "    counter += 1\n",
        "\n",
        "print(\"The answer is:\", ans)"
      ],
      "metadata": {
        "colab": {
          "base_uri": "https://localhost:8080/",
          "height": 0
        },
        "id": "QA4OuyfS-W1R",
        "outputId": "c75c30f1-1e12-4d01-fe26-17b302f011e1"
      },
      "execution_count": 11,
      "outputs": [
        {
          "output_type": "stream",
          "name": "stdout",
          "text": [
            "\tLab 2 : Q15\n",
            "Enter a five digit number: 14973\n",
            "The answer is: 25084\n"
          ]
        }
      ]
    },
    {
      "cell_type": "code",
      "source": [
        "print(\"\\tLab 2 : Q16\")\n",
        "counter = 0\n",
        "ans = 0\n",
        "while (counter < 10):\n",
        "    x = int(input(\"Enter an integer: \"))\n",
        "    if ((x % 2 != 0) and (x > ans)) or (counter == 0):\n",
        "        ans = x\n",
        "    counter += 1\n",
        "\n",
        "print(\"The answer is:\", ans)"
      ],
      "metadata": {
        "colab": {
          "base_uri": "https://localhost:8080/",
          "height": 0
        },
        "id": "oxI32iA4-Y_T",
        "outputId": "c8a52984-c0e2-4f37-f4f6-0e0067873a80"
      },
      "execution_count": 12,
      "outputs": [
        {
          "output_type": "stream",
          "name": "stdout",
          "text": [
            "\tLab 2 : Q16\n",
            "Enter an integer: 34\n",
            "Enter an integer: 87\n",
            "Enter an integer: 23\n",
            "Enter an integer: 1\n",
            "Enter an integer: 2\n",
            "Enter an integer: 78\n",
            "Enter an integer: 65\n",
            "Enter an integer: 45\n",
            "Enter an integer: 0\n",
            "Enter an integer: 98\n",
            "The answer is: 87\n"
          ]
        }
      ]
    },
    {
      "cell_type": "code",
      "source": [
        "print(\"\\tLab 2 : Q17\")\n",
        "num = int(input(\"Enter the number: \"))\n",
        "cuberoot = int(num**(1/3.))\n",
        "if (cuberoot**3 == num) or ((cuberoot+1)**3 == num):\n",
        "    print(\"Entered number is a perfect cube root.\")\n",
        "else:\n",
        "    print(\"Entered number is not a perfect cube root.\")"
      ],
      "metadata": {
        "colab": {
          "base_uri": "https://localhost:8080/",
          "height": 0
        },
        "id": "Sb9DTNba-afh",
        "outputId": "3acd3c92-1a3d-45f5-fafa-1ac627a28c93"
      },
      "execution_count": 13,
      "outputs": [
        {
          "output_type": "stream",
          "name": "stdout",
          "text": [
            "\tLab 2 : Q17\n",
            "Enter the number: 256\n",
            "Entered number is not a perfect cube root.\n"
          ]
        }
      ]
    },
    {
      "cell_type": "code",
      "source": [
        "print(\"\\tLab 2 : Q18\")\n",
        "num = 1\n",
        "while (num <= 100):\n",
        "    if num % 2 == 0:\n",
        "        print(num, end=\"\\t\")\n",
        "        num += 1\n",
        "    else:\n",
        "        num += 1"
      ],
      "metadata": {
        "colab": {
          "base_uri": "https://localhost:8080/",
          "height": 0
        },
        "id": "xqTxTi6M-cQJ",
        "outputId": "5b05399e-4e30-46b4-8d0a-babc8f04ccd8"
      },
      "execution_count": 29,
      "outputs": [
        {
          "output_type": "stream",
          "name": "stdout",
          "text": [
            "\tLab 2 : Q18\n",
            "2\t4\t6\t8\t10\t12\t14\t16\t18\t20\t22\t24\t26\t28\t30\t32\t34\t36\t38\t40\t42\t44\t46\t48\t50\t52\t54\t56\t58\t60\t62\t64\t66\t68\t70\t72\t74\t76\t78\t80\t82\t84\t86\t88\t90\t92\t94\t96\t98\t100\t"
          ]
        }
      ]
    },
    {
      "cell_type": "code",
      "source": [
        "print(\"\\tLab 2 : Q19\")\n",
        "num = 1\n",
        "while (num <= 100):\n",
        "    if num % 2 != 0:\n",
        "        print(num)\n",
        "        num += 1\n",
        "    else:\n",
        "        num += 1"
      ],
      "metadata": {
        "colab": {
          "base_uri": "https://localhost:8080/",
          "height": 0
        },
        "id": "1uxaN4pO-du6",
        "outputId": "5f428bf1-fa84-4d22-b7a9-2d82c7a46e50"
      },
      "execution_count": 15,
      "outputs": [
        {
          "output_type": "stream",
          "name": "stdout",
          "text": [
            "\tLab 2 : Q19\n",
            "1\n",
            "3\n",
            "5\n",
            "7\n",
            "9\n",
            "11\n",
            "13\n",
            "15\n",
            "17\n",
            "19\n",
            "21\n",
            "23\n",
            "25\n",
            "27\n",
            "29\n",
            "31\n",
            "33\n",
            "35\n",
            "37\n",
            "39\n",
            "41\n",
            "43\n",
            "45\n",
            "47\n",
            "49\n",
            "51\n",
            "53\n",
            "55\n",
            "57\n",
            "59\n",
            "61\n",
            "63\n",
            "65\n",
            "67\n",
            "69\n",
            "71\n",
            "73\n",
            "75\n",
            "77\n",
            "79\n",
            "81\n",
            "83\n",
            "85\n",
            "87\n",
            "89\n",
            "91\n",
            "93\n",
            "95\n",
            "97\n",
            "99\n"
          ]
        }
      ]
    },
    {
      "cell_type": "code",
      "source": [
        "print(\"\\tLab 2 : Q1\")\n",
        "x = int(input(\"Enter x: \"))\n",
        "y = int(input(\"Enter y: \"))\n",
        "if x+y == 10 and x*y < 20:\n",
        "    print(\"incorrect\")"
      ],
      "metadata": {
        "colab": {
          "base_uri": "https://localhost:8080/",
          "height": 0
        },
        "id": "_QIOMSg_-fJm",
        "outputId": "c8f6618d-531f-44a0-b4e9-84ac63363e87"
      },
      "execution_count": 16,
      "outputs": [
        {
          "output_type": "stream",
          "name": "stdout",
          "text": [
            "\tLab 2 : Q1\n",
            "Enter x: 8\n",
            "Enter y: 2\n",
            "incorrect\n"
          ]
        }
      ]
    },
    {
      "cell_type": "code",
      "source": [
        "print(\"\\tLab 2 : Q20\")\n",
        "x = int(input(\"Enter first number: \"))\n",
        "y = int(input(\"Enter second number: \"))\n",
        "if x == 0 or y == 0:\n",
        "    print(\"GCD of 0 and 0 is : 0\")\n",
        "elif x == y:\n",
        "    print(\"GCD of\", x, \"and\", y, \"is:\", x)\n",
        "else:\n",
        "    if x < y:\n",
        "        gcd = y\n",
        "    else:\n",
        "        gcd = x\n",
        "    while gcd > 0:\n",
        "        if x % gcd == 0 and y % gcd == 0:\n",
        "            print(\"GCD of\", x, \"and\", y, \"is:\", gcd)\n",
        "            gcd -= 1\n",
        "        gcd -= 1"
      ],
      "metadata": {
        "colab": {
          "base_uri": "https://localhost:8080/",
          "height": 0
        },
        "id": "KXvojG5y-hAC",
        "outputId": "74803c05-75b4-4f8a-fdd0-de7930fffbca"
      },
      "execution_count": 17,
      "outputs": [
        {
          "output_type": "stream",
          "name": "stdout",
          "text": [
            "\tLab 2 : Q20\n",
            "Enter first number: 45\n",
            "Enter second number: 53\n",
            "GCD of 45 and 53 is: 1\n"
          ]
        }
      ]
    },
    {
      "cell_type": "code",
      "source": [
        "print(\"\\tLab 2 : Q21\")\n",
        "x = int(input(\"Enter first number: \"))\n",
        "y = int(input(\"Enter second number: \"))\n",
        "if x == 0 or y == 0:\n",
        "    print(\"LCM of 0 and 0 is : 0\")\n",
        "elif x == y:\n",
        "    print(\"LCM of\", x, \"and\", y, \"is:\", x)\n",
        "else:\n",
        "    gcd = 0\n",
        "    if x < y:\n",
        "        z = y\n",
        "    else:\n",
        "        z = x\n",
        "    while z > 0:\n",
        "        if x % z == 0 and y % z == 0:\n",
        "            gcd = z\n",
        "            z -= 1\n",
        "        z -= 1\n",
        "    print(\"LCM of\", x, \"and\", y, \"is:\", (x*y)//gcd)"
      ],
      "metadata": {
        "colab": {
          "base_uri": "https://localhost:8080/",
          "height": 0
        },
        "id": "ZFVBOD-u-i8P",
        "outputId": "9861baf5-cdd9-412c-b7b2-d0677b419c27"
      },
      "execution_count": 18,
      "outputs": [
        {
          "output_type": "stream",
          "name": "stdout",
          "text": [
            "\tLab 2 : Q21\n",
            "Enter first number: 45\n",
            "Enter second number: 53\n",
            "LCM of 45 and 53 is: 2385\n"
          ]
        }
      ]
    },
    {
      "cell_type": "code",
      "source": [
        "PI = 3.1415\n",
        "print(\"\\tLab 2 : Q2\")\n",
        "radius = int(input(\"Enter radius: \"))\n",
        "print(\"Area of the circle is:\", PI*radius*radius)\n",
        "print(\"Circumference of the circle is:\", 2*PI*radius)"
      ],
      "metadata": {
        "colab": {
          "base_uri": "https://localhost:8080/",
          "height": 0
        },
        "id": "J47ciA4A-laQ",
        "outputId": "a489a45c-c597-4eb8-de56-bdce1a4ec7e5"
      },
      "execution_count": 19,
      "outputs": [
        {
          "output_type": "stream",
          "name": "stdout",
          "text": [
            "\tLab 2 : Q2\n",
            "Enter radius: 5\n",
            "Area of the circle is: 78.53750000000001\n",
            "Circumference of the circle is: 31.415000000000003\n"
          ]
        }
      ]
    },
    {
      "cell_type": "code",
      "source": [
        "print(\"\\tLab 2 : Q3\")\n",
        "principal = int(input(\"Enter amount: \"))\n",
        "rate = int(input(\"Enter rate of interest: \"))\n",
        "time = int(input(\"Enter time (in years): \"))\n",
        "print(\"Simple interest for this amount will be:\", (principal*rate*time)/100)\n",
        "print(\"Compound interest for this amount will be:\",\n",
        "      principal*(((1+(rate/100))**time)-1))"
      ],
      "metadata": {
        "colab": {
          "base_uri": "https://localhost:8080/",
          "height": 0
        },
        "id": "llzb8nnC-m24",
        "outputId": "fae5b9c6-117d-43f4-84ee-a1997c9154d9"
      },
      "execution_count": 20,
      "outputs": [
        {
          "output_type": "stream",
          "name": "stdout",
          "text": [
            "\tLab 2 : Q3\n",
            "Enter amount: 1000\n",
            "Enter rate of interest: 4\n",
            "Enter time (in years): 2\n",
            "Simple interest for this amount will be: 80.0\n",
            "Compound interest for this amount will be: 81.60000000000012\n"
          ]
        }
      ]
    },
    {
      "cell_type": "code",
      "source": [
        "print(\"\\tLab 2 : Q3\")\n",
        "temp = int(input(\"Enter temperature in degree centigrade: \"))\n",
        "print(\"The temperature in degree ferhrenheit is:\", (temp*(9/5))+32)"
      ],
      "metadata": {
        "colab": {
          "base_uri": "https://localhost:8080/",
          "height": 0
        },
        "id": "9vif3-VB-o4I",
        "outputId": "5be7b2d5-9b60-43c9-ea87-ff1e7afdae39"
      },
      "execution_count": 21,
      "outputs": [
        {
          "output_type": "stream",
          "name": "stdout",
          "text": [
            "\tLab 2 : Q3\n",
            "Enter temperature in degree centigrade: 32\n",
            "The temperature in degree ferhrenheit is: 89.6\n"
          ]
        }
      ]
    },
    {
      "cell_type": "code",
      "source": [
        "print(\"\\tLab 2 : Q5\")\n",
        "x = int(input(\"Enter first number: \"))\n",
        "y = int(input(\"Enter second number: \"))\n",
        "z = int(input(\"Enter third number: \"))\n",
        "print(\"Average of\", x, \",\", y, \", and\", z, \"is:\", (x+y+z)/3)"
      ],
      "metadata": {
        "colab": {
          "base_uri": "https://localhost:8080/",
          "height": 0
        },
        "id": "f-V2T_m9-qQW",
        "outputId": "ec20245c-03fa-43fd-c656-23f5ca00d9cc"
      },
      "execution_count": 22,
      "outputs": [
        {
          "output_type": "stream",
          "name": "stdout",
          "text": [
            "\tLab 2 : Q5\n",
            "Enter first number: 4\n",
            "Enter second number: 7\n",
            "Enter third number: 2\n",
            "Average of 4 , 7 , and 2 is: 4.333333333333333\n"
          ]
        }
      ]
    },
    {
      "cell_type": "code",
      "source": [
        "print(\"\\tLab 2 : Q6\")\n",
        "sub1 = int(input(\"Enter marks of first subject: \"))\n",
        "sub2 = int(input(\"Enter marks of second subject: \"))\n",
        "sub3 = int(input(\"Enter marks of third subject: \"))\n",
        "sub4 = int(input(\"Enter marks of fourth subject: \"))\n",
        "sub5 = int(input(\"Enter marks of fifth subject: \"))\n",
        "sub6 = int(input(\"Enter marks of sixth subject: \"))\n",
        "print(\"The sum of marks is:\", sub1+sub2+sub3+sub4+sub5+sub6)\n",
        "print(\"The percentage obtained is:\", (sub1+sub2+sub3+sub4+sub5+sub6)/6, \"%\")"
      ],
      "metadata": {
        "colab": {
          "base_uri": "https://localhost:8080/",
          "height": 0
        },
        "id": "dr4L7YL5-r5M",
        "outputId": "8849aa7c-a03c-45fb-a81e-de2a8fe819da"
      },
      "execution_count": 23,
      "outputs": [
        {
          "output_type": "stream",
          "name": "stdout",
          "text": [
            "\tLab 2 : Q6\n",
            "Enter marks of first subject: 12\n",
            "Enter marks of second subject: 23\n",
            "Enter marks of third subject: 34\n",
            "Enter marks of fourth subject: 45\n",
            "Enter marks of fifth subject: 56\n",
            "Enter marks of sixth subject: 67\n",
            "The sum of marks is: 237\n",
            "The percentage obtained is: 39.5 %\n"
          ]
        }
      ]
    },
    {
      "cell_type": "code",
      "source": [
        "print(\"\\tLab 2 : Q7\")\n",
        "X = int(input(\"Enter X: \"))\n",
        "Y = int(input(\"Enter Y: \"))\n",
        "X, Y = Y, X\n",
        "print(\"The value of X is:\", X)\n",
        "print(\"The value of Y is:\", Y)"
      ],
      "metadata": {
        "colab": {
          "base_uri": "https://localhost:8080/",
          "height": 0
        },
        "id": "Gx5lOeQ1-tj1",
        "outputId": "2c802681-2bd0-4591-aa88-00c1c9e06c38"
      },
      "execution_count": 24,
      "outputs": [
        {
          "output_type": "stream",
          "name": "stdout",
          "text": [
            "\tLab 2 : Q7\n",
            "Enter X: 1\n",
            "Enter Y: 2\n",
            "The value of X is: 2\n",
            "The value of Y is: 1\n"
          ]
        }
      ]
    },
    {
      "cell_type": "code",
      "source": [
        "print(\"\\tLab 2 : Q8\")\n",
        "salary = int(input(\"Enter the base salary: \"))\n",
        "DA = (10*salary)/100\n",
        "TA = (12*salary)/100\n",
        "print(\"The Gross Salary is:\", salary+DA+TA)"
      ],
      "metadata": {
        "colab": {
          "base_uri": "https://localhost:8080/",
          "height": 0
        },
        "id": "KNNkP4EZ-u4f",
        "outputId": "0477f87c-8091-4b01-d979-656b884f186b"
      },
      "execution_count": 25,
      "outputs": [
        {
          "output_type": "stream",
          "name": "stdout",
          "text": [
            "\tLab 2 : Q8\n",
            "Enter the base salary: 20000\n",
            "The Gross Salary is: 24400.0\n"
          ]
        }
      ]
    },
    {
      "cell_type": "code",
      "source": [
        "print(\"\\tLab 2 : Q9\")\n",
        "x = int(input(\"Enter first number: \"))\n",
        "y = int(input(\"Enter second number: \"))\n",
        "z = int(input(\"Enter third number: \"))\n",
        "great = 0\n",
        "if x >= y:\n",
        "    if x >= z:\n",
        "        great = x\n",
        "    else:\n",
        "        great = z\n",
        "else:\n",
        "    if y >= z:\n",
        "        great = y\n",
        "    else:\n",
        "        great = z\n",
        "print(\"The greatest of\", x, \",\", y, \", and\", z, \"is\", great)"
      ],
      "metadata": {
        "colab": {
          "base_uri": "https://localhost:8080/",
          "height": 0
        },
        "id": "SLc4joj3-wN4",
        "outputId": "c0b5ca99-0249-463f-9ac0-94696445928c"
      },
      "execution_count": 28,
      "outputs": [
        {
          "output_type": "stream",
          "name": "stdout",
          "text": [
            "\tLab 2 : Q9\n",
            "Enter first number: 3\n",
            "Enter second number: 2\n",
            "Enter third number: 7\n",
            "The greatest of 3 , 2 , and 7 is 7\n"
          ]
        }
      ]
    }
  ]
}